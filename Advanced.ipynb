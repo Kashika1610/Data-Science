{
 "cells": [
  {
   "cell_type": "code",
   "execution_count": 1,
   "metadata": {},
   "outputs": [
    {
     "name": "stdout",
     "output_type": "stream",
     "text": [
      "Broadcasted Result:\n",
      " [[0.93821146 1.16734004 1.32004327 0.54154657]\n",
      " [0.62224278 1.25803724 0.98436263 0.67943061]\n",
      " [0.80647872 0.80463318 1.14974203 1.34063781]]\n"
     ]
    }
   ],
   "source": [
    "import numpy as np\n",
    "\n",
    "# Creating the arrays\n",
    "array_1 = np.random.rand(3, 4)  # Array with shape (3, 4)\n",
    "array_2 = np.random.rand(4)      # Array with shape (4,)\n",
    "\n",
    "# Broadcasting\n",
    "result = array_1 + array_2\n",
    "\n",
    "print(\"Broadcasted Result:\\n\", result)\n"
   ]
  },
  {
   "cell_type": "code",
   "execution_count": 2,
   "metadata": {},
   "outputs": [
    {
     "name": "stdout",
     "output_type": "stream",
     "text": [
      "Diagonal Elements:\n",
      " [6 3 1 3 8]\n",
      "Elements greater than 3:\n",
      " [6 8 9 7 8 7 6 5 7 4 4 9 6 8 8]\n"
     ]
    }
   ],
   "source": [
    "# Creating a 2D array with shape (5, 5)\n",
    "array_2d = np.random.randint(1, 10, size=(5, 5))\n",
    "\n",
    "# Extracting diagonal elements\n",
    "diagonal_elements = array_2d[np.diag_indices_from(array_2d)]\n",
    "\n",
    "# Extracting elements greater than 3\n",
    "greater_than_3 = array_2d[array_2d > 3]\n",
    "\n",
    "print(\"Diagonal Elements:\\n\", diagonal_elements)\n",
    "print(\"Elements greater than 3:\\n\", greater_than_3)\n"
   ]
  },
  {
   "cell_type": "code",
   "execution_count": 3,
   "metadata": {},
   "outputs": [
    {
     "name": "stdout",
     "output_type": "stream",
     "text": [
      "Array with Inserted Row:\n",
      " [[ 2  4  6  8  9]\n",
      " [ 3  7  1  8  6]\n",
      " [10 20 30 40 50]\n",
      " [ 6  3  5  1  9]\n",
      " [ 6  1  5  4  9]]\n",
      "Array with Deleted Last Column:\n",
      " [[ 2  4  6  8]\n",
      " [ 3  7  1  8]\n",
      " [10 20 30 40]\n",
      " [ 6  3  5  1]\n",
      " [ 6  1  5  4]]\n"
     ]
    }
   ],
   "source": [
    "# Creating a 2D array with shape (4, 5)\n",
    "array_2d = np.random.randint(1, 10, size=(4, 5))\n",
    "\n",
    "# Inserting a new row at index 2\n",
    "new_row = np.array([10, 20, 30, 40, 50])\n",
    "array_with_inserted_row = np.insert(array_2d, 2, new_row, axis=0)\n",
    "\n",
    "# Deleting the last column\n",
    "array_with_deleted_column = np.delete(array_with_inserted_row, -1, axis=1)\n",
    "\n",
    "print(\"Array with Inserted Row:\\n\", array_with_inserted_row)\n",
    "print(\"Array with Deleted Last Column:\\n\", array_with_deleted_column)\n"
   ]
  },
  {
   "cell_type": "code",
   "execution_count": 4,
   "metadata": {},
   "outputs": [
    {
     "name": "stdout",
     "output_type": "stream",
     "text": [
      "Matrix Multiplication Result:\n",
      " [[0.42953112 0.62591526]\n",
      " [1.03601125 0.69586927]\n",
      " [1.04315702 0.98237669]]\n",
      "Determinant:\n",
      " -0.08531444771612266\n",
      "Inverse:\n",
      " [[ 5.09439936  0.42688314 -1.98771882]\n",
      " [-3.76139988 -0.57065352  2.64568011]\n",
      " [-6.61493338  1.48941436  2.16294641]]\n"
     ]
    }
   ],
   "source": [
    "# Matrix multiplication\n",
    "array_1 = np.random.rand(3, 4)\n",
    "array_2 = np.random.rand(4, 2)\n",
    "matrix_multiplication_result = np.matmul(array_1, array_2)\n",
    "\n",
    "# Determinant and Inverse\n",
    "square_matrix = np.random.rand(3, 3)\n",
    "determinant = np.linalg.det(square_matrix)\n",
    "inverse = np.linalg.inv(square_matrix)\n",
    "\n",
    "print(\"Matrix Multiplication Result:\\n\", matrix_multiplication_result)\n",
    "print(\"Determinant:\\n\", determinant)\n",
    "print(\"Inverse:\\n\", inverse)\n"
   ]
  },
  {
   "cell_type": "code",
   "execution_count": 5,
   "metadata": {},
   "outputs": [
    {
     "name": "stdout",
     "output_type": "stream",
     "text": [
      "Random Normal Array:\n",
      " [[ 0.17024984  0.28931773 -0.35542669 -0.88941446  1.0386206 ]\n",
      " [-1.90244957 -0.65123802 -0.19022254 -1.4377865  -0.58495279]\n",
      " [ 0.08697267  1.07511204 -1.03710647  2.69013495  0.51241775]\n",
      " [ 1.64391944  0.29718507 -0.88272398 -0.58747741  0.58029006]\n",
      " [-0.67832438  0.20264198 -0.55202472  0.84148019  0.6828424 ]]\n",
      "Random Integers Array:\n",
      " [2 5 5 4 8 5 6 2 2 6]\n"
     ]
    }
   ],
   "source": [
    "# Generating a 2D array from a normal distribution\n",
    "random_normal_array = np.random.randn(5, 5)\n",
    "\n",
    "# Generating a 1D array with random integers\n",
    "random_integers_array = np.random.randint(1, 11, size=10)\n",
    "\n",
    "print(\"Random Normal Array:\\n\", random_normal_array)\n",
    "print(\"Random Integers Array:\\n\", random_integers_array)\n"
   ]
  },
  {
   "cell_type": "code",
   "execution_count": 6,
   "metadata": {},
   "outputs": [
    {
     "name": "stdout",
     "output_type": "stream",
     "text": [
      "Time taken by vectorized operation: 0.002947 seconds\n",
      "Time taken by loop operation: 0.090278 seconds\n"
     ]
    }
   ],
   "source": [
    "import time\n",
    "\n",
    "# Element-wise operation using Numpy (Vectorized)\n",
    "array_large = np.random.rand(1000000)\n",
    "start_time = time.time()\n",
    "result_vectorized = array_large * 2\n",
    "end_time = time.time()\n",
    "vectorized_time = end_time - start_time\n",
    "\n",
    "# Element-wise operation using Python's built-in loops\n",
    "start_time = time.time()\n",
    "result_loop = [x * 2 for x in array_large]\n",
    "end_time = time.time()\n",
    "loop_time = end_time - start_time\n",
    "\n",
    "print(\"Time taken by vectorized operation: {:.6f} seconds\".format(vectorized_time))\n",
    "print(\"Time taken by loop operation: {:.6f} seconds\".format(loop_time))\n"
   ]
  },
  {
   "cell_type": "code",
   "execution_count": null,
   "metadata": {},
   "outputs": [],
   "source": []
  }
 ],
 "metadata": {
  "kernelspec": {
   "display_name": "DSenv",
   "language": "python",
   "name": "python3"
  },
  "language_info": {
   "codemirror_mode": {
    "name": "ipython",
    "version": 3
   },
   "file_extension": ".py",
   "mimetype": "text/x-python",
   "name": "python",
   "nbconvert_exporter": "python",
   "pygments_lexer": "ipython3",
   "version": "3.12.4"
  }
 },
 "nbformat": 4,
 "nbformat_minor": 2
}
