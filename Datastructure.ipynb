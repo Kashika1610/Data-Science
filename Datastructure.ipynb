{
 "cells": [
  {
   "cell_type": "code",
   "execution_count": 1,
   "metadata": {},
   "outputs": [
    {
     "name": "stdout",
     "output_type": "stream",
     "text": [
      "Integer\n",
      "Float\n",
      "Neither Integer nor Float\n"
     ]
    }
   ],
   "source": [
    "def check_type(variable):\n",
    "    if isinstance(variable, int):\n",
    "        return \"Integer\"\n",
    "    elif isinstance(variable, float):\n",
    "        return \"Float\"\n",
    "    else:\n",
    "        return \"Neither Integer nor Float\"\n",
    "\n",
    "# Test cases\n",
    "print(check_type(10))    # Integer\n",
    "print(check_type(10.5))  # Float\n",
    "print(check_type(\"10\"))  # Neither Integer nor Float\n"
   ]
  },
  {
   "cell_type": "code",
   "execution_count": 2,
   "metadata": {},
   "outputs": [
    {
     "name": "stdout",
     "output_type": "stream",
     "text": [
      "String\n",
      "List\n",
      "Tuple\n",
      "Dictionary\n"
     ]
    }
   ],
   "source": [
    "def check_data_type(user_input):\n",
    "    if isinstance(user_input, str):\n",
    "        return \"String\"\n",
    "    elif isinstance(user_input, list):\n",
    "        return \"List\"\n",
    "    elif isinstance(user_input, tuple):\n",
    "        return \"Tuple\"\n",
    "    elif isinstance(user_input, dict):\n",
    "        return \"Dictionary\"\n",
    "    else:\n",
    "        return \"Unknown type\"\n",
    "\n",
    "# Test cases\n",
    "print(check_data_type(\"Hello\"))         # String\n",
    "print(check_data_type([1, 2, 3]))       # List\n",
    "print(check_data_type((1, 2, 3)))       # Tuple\n",
    "print(check_data_type({\"a\": 1, \"b\": 2}))# Dictionary\n"
   ]
  },
  {
   "cell_type": "code",
   "execution_count": 3,
   "metadata": {},
   "outputs": [
    {
     "name": "stdout",
     "output_type": "stream",
     "text": [
      "10.0\n",
      "10\n",
      "Invalid input\n"
     ]
    }
   ],
   "source": [
    "def convert_type(value):\n",
    "    if isinstance(value, int):\n",
    "        return float(value)\n",
    "    elif isinstance(value, float):\n",
    "        return int(value)\n",
    "    else:\n",
    "        return \"Invalid input\"\n",
    "\n",
    "# Test cases\n",
    "print(convert_type(10))   # 10.0\n",
    "print(convert_type(10.5)) # 10\n",
    "print(convert_type(\"10\")) # Invalid input\n"
   ]
  },
  {
   "cell_type": "code",
   "execution_count": 4,
   "metadata": {},
   "outputs": [
    {
     "name": "stdout",
     "output_type": "stream",
     "text": [
      "a is less than b\n",
      "a is greater than b\n",
      "a is equal to b\n"
     ]
    }
   ],
   "source": [
    "def compare_numbers(a, b):\n",
    "    if a > b:\n",
    "        return \"a is greater than b\"\n",
    "    elif a < b:\n",
    "        return \"a is less than b\"\n",
    "    else:\n",
    "        return \"a is equal to b\"\n",
    "\n",
    "# Test cases\n",
    "print(compare_numbers(5, 10))  # a is less than b\n",
    "print(compare_numbers(10, 5))  # a is greater than b\n",
    "print(compare_numbers(5, 5))   # a is equal to b\n"
   ]
  },
  {
   "cell_type": "code",
   "execution_count": 5,
   "metadata": {},
   "outputs": [
    {
     "name": "stdout",
     "output_type": "stream",
     "text": [
      "Contains only digits\n",
      "Contains only letters\n",
      "Alphanumeric\n",
      "Contains special characters\n"
     ]
    }
   ],
   "source": [
    "def check_string(s):\n",
    "    if s.isalnum():\n",
    "        if s.isdigit():\n",
    "            return \"Contains only digits\"\n",
    "        elif s.isalpha():\n",
    "            return \"Contains only letters\"\n",
    "        else:\n",
    "            return \"Alphanumeric\"\n",
    "    else:\n",
    "        return \"Contains special characters\"\n",
    "\n",
    "# Test cases\n",
    "print(check_string(\"12345\"))      # Contains only digits\n",
    "print(check_string(\"abcde\"))      # Contains only letters\n",
    "print(check_string(\"abc123\"))     # Alphanumeric\n",
    "print(check_string(\"abc123!\"))    # Contains special characters\n"
   ]
  },
  {
   "cell_type": "code",
   "execution_count": 6,
   "metadata": {},
   "outputs": [],
   "source": [
    "#List"
   ]
  },
  {
   "cell_type": "code",
   "execution_count": 7,
   "metadata": {},
   "outputs": [
    {
     "name": "stdout",
     "output_type": "stream",
     "text": [
      "[1, 4, 9, 16, 25, 36, 49, 64, 81, 100]\n"
     ]
    }
   ],
   "source": [
    "numbers = list(range(1, 11))\n",
    "squares = [x**2 for x in numbers]\n",
    "print(squares)\n"
   ]
  },
  {
   "cell_type": "code",
   "execution_count": 8,
   "metadata": {},
   "outputs": [
    {
     "name": "stdout",
     "output_type": "stream",
     "text": [
      "(15, 3.0, 5)\n"
     ]
    }
   ],
   "source": [
    "def list_stats(numbers):\n",
    "    total = sum(numbers)\n",
    "    average = total / len(numbers)\n",
    "    maximum = max(numbers)\n",
    "    return total, average, maximum\n",
    "\n",
    "# Test cases\n",
    "print(list_stats([1, 2, 3, 4, 5]))  # (15, 3.0, 5)\n"
   ]
  },
  {
   "cell_type": "code",
   "execution_count": 9,
   "metadata": {},
   "outputs": [
    {
     "name": "stdout",
     "output_type": "stream",
     "text": [
      "[5, 4, 3, 2, 1]\n"
     ]
    }
   ],
   "source": [
    "def reverse_list(lst):\n",
    "    return lst[::-1]\n",
    "\n",
    "# Test cases\n",
    "print(reverse_list([1, 2, 3, 4, 5]))  # [5, 4, 3, 2, 1]\n"
   ]
  },
  {
   "cell_type": "code",
   "execution_count": 10,
   "metadata": {},
   "outputs": [
    {
     "name": "stdout",
     "output_type": "stream",
     "text": [
      "([2, 3], [1, 2, 3, 4])\n"
     ]
    }
   ],
   "source": [
    "def list_intersection_union(list1, list2):\n",
    "    intersection = list(set(list1) & set(list2))\n",
    "    union = list(set(list1) | set(list2))\n",
    "    return intersection, union\n",
    "\n",
    "# Test cases\n",
    "print(list_intersection_union([1, 2, 3], [2, 3, 4]))  # ([2, 3], [1, 2, 3, 4])\n"
   ]
  },
  {
   "cell_type": "code",
   "execution_count": 11,
   "metadata": {},
   "outputs": [
    {
     "name": "stdout",
     "output_type": "stream",
     "text": [
      "['Alice', 'Charlie']\n"
     ]
    }
   ],
   "source": [
    "students = [(\"Alice\", 90), (\"Bob\", 75), (\"Charlie\", 85), (\"David\", 60)]\n",
    "high_achievers = [name for name, grade in students if grade > 80]\n",
    "print(high_achievers)\n"
   ]
  },
  {
   "cell_type": "code",
   "execution_count": 13,
   "metadata": {},
   "outputs": [],
   "source": [
    "#Tuples"
   ]
  },
  {
   "cell_type": "code",
   "execution_count": 14,
   "metadata": {},
   "outputs": [
    {
     "name": "stdout",
     "output_type": "stream",
     "text": [
      "120\n"
     ]
    }
   ],
   "source": [
    "import functools\n",
    "import operator\n",
    "\n",
    "numbers = (1, 2, 3, 4, 5)\n",
    "product = functools.reduce(operator.mul, numbers, 1)\n",
    "print(product)\n"
   ]
  },
  {
   "cell_type": "code",
   "execution_count": 15,
   "metadata": {},
   "outputs": [
    {
     "name": "stdout",
     "output_type": "stream",
     "text": [
      "Hello World!\n"
     ]
    }
   ],
   "source": [
    "def concatenate_strings(strings):\n",
    "    return ''.join(strings)\n",
    "\n",
    "# Test cases\n",
    "print(concatenate_strings((\"Hello\", \" \", \"World\", \"!\")))  # Hello World!\n"
   ]
  },
  {
   "cell_type": "code",
   "execution_count": 16,
   "metadata": {},
   "outputs": [
    {
     "name": "stdout",
     "output_type": "stream",
     "text": [
      "(5, 2, 3, 4, 1)\n"
     ]
    }
   ],
   "source": [
    "def swap_first_last(tpl):\n",
    "    if len(tpl) < 2:\n",
    "        return tpl\n",
    "    return (tpl[-1],) + tpl[1:-1] + (tpl[0],)\n",
    "\n",
    "# Test cases\n",
    "print(swap_first_last((1, 2, 3, 4, 5)))  # (5, 2, 3, 4, 1)\n"
   ]
  },
  {
   "cell_type": "code",
   "execution_count": 17,
   "metadata": {},
   "outputs": [
    {
     "name": "stdout",
     "output_type": "stream",
     "text": [
      "(1, 2, 3, 4, 5, 6)\n"
     ]
    }
   ],
   "source": [
    "def concatenate_tuples(tpl1, tpl2):\n",
    "    return tpl1 + tpl2\n",
    "\n",
    "# Test cases\n",
    "print(concatenate_tuples((1, 2, 3), (4, 5, 6)))  # (1, 2, 3, 4, 5, 6)\n"
   ]
  },
  {
   "cell_type": "code",
   "execution_count": 18,
   "metadata": {},
   "outputs": [
    {
     "name": "stdout",
     "output_type": "stream",
     "text": [
      "['Bob', 'David']\n"
     ]
    }
   ],
   "source": [
    "students = ((\"Alice\", 90), (\"Bob\", 95), (\"Charlie\", 85), (\"David\", 92))\n",
    "high_achievers = [name for name, grade in students if grade > 90]\n",
    "print(high_achievers)\n"
   ]
  },
  {
   "cell_type": "code",
   "execution_count": 21,
   "metadata": {},
   "outputs": [],
   "source": [
    "#Dictionaries"
   ]
  },
  {
   "cell_type": "code",
   "execution_count": 22,
   "metadata": {},
   "outputs": [
    {
     "name": "stdout",
     "output_type": "stream",
     "text": [
      "['Alice', 'David']\n"
     ]
    }
   ],
   "source": [
    "students = {\"Alice\": 90, \"Bob\": 75, \"Charlie\": 85, \"David\": 95}\n",
    "high_achievers = [name for name, grade in students.items() if grade > 85]\n",
    "print(high_achievers)\n"
   ]
  },
  {
   "cell_type": "code",
   "execution_count": 23,
   "metadata": {},
   "outputs": [
    {
     "name": "stdout",
     "output_type": "stream",
     "text": [
      "6\n"
     ]
    }
   ],
   "source": [
    "def sum_values(dct):\n",
    "    return sum(dct.values())\n",
    "\n",
    "# Test cases\n",
    "print(sum_values({\"a\": 1, \"b\": 2, \"c\": 3}))  # 6\n"
   ]
  },
  {
   "cell_type": "code",
   "execution_count": 24,
   "metadata": {},
   "outputs": [
    {
     "name": "stdout",
     "output_type": "stream",
     "text": [
      "{'a': 1, 'b': 2, 'c': 3, 'd': 4}\n"
     ]
    }
   ],
   "source": [
    "def merge_dictionaries(dct1, dct2):\n",
    "    merged = dct1.copy()\n",
    "    merged.update(dct2)\n",
    "    return merged\n",
    "\n",
    "# Test cases\n",
    "print(merge_dictionaries({\"a\": 1, \"b\": 2}, {\"c\": 3, \"d\": 4}))  # {'a': 1, 'b': 2, 'c': 3, 'd': 4}\n"
   ]
  },
  {
   "cell_type": "code",
   "execution_count": 25,
   "metadata": {},
   "outputs": [
    {
     "name": "stdout",
     "output_type": "stream",
     "text": [
      "86.25\n"
     ]
    }
   ],
   "source": [
    "students = {\"Alice\": 90, \"Bob\": 75, \"Charlie\": 85, \"David\": 95}\n",
    "average_grade = sum(students.values()) / len(students)\n",
    "print(average_grade)\n"
   ]
  },
  {
   "cell_type": "code",
   "execution_count": 26,
   "metadata": {},
   "outputs": [
    {
     "name": "stdout",
     "output_type": "stream",
     "text": [
      "world\n"
     ]
    }
   ],
   "source": [
    "word_frequencies = {\"hello\": 3, \"world\": 5, \"python\": 2, \"code\": 5}\n",
    "most_frequent = max(word_frequencies, key=word_frequencies.get)\n",
    "print(most_frequent)\n"
   ]
  },
  {
   "cell_type": "code",
   "execution_count": 28,
   "metadata": {},
   "outputs": [],
   "source": [
    "#Sets"
   ]
  },
  {
   "cell_type": "code",
   "execution_count": 29,
   "metadata": {},
   "outputs": [
    {
     "name": "stdout",
     "output_type": "stream",
     "text": [
      "{1, 2, 3, 4}\n",
      "{2, 3}\n"
     ]
    }
   ],
   "source": [
    "set1 = {1, 2, 3}\n",
    "set2 = {2, 3, 4}\n",
    "union = set1 | set2\n",
    "intersection = set1 & set2\n",
    "print(union)\n",
    "print(intersection)\n"
   ]
  },
  {
   "cell_type": "code",
   "execution_count": 30,
   "metadata": {},
   "outputs": [
    {
     "name": "stdout",
     "output_type": "stream",
     "text": [
      "(1, 5)\n"
     ]
    }
   ],
   "source": [
    "def set_min_max(s):\n",
    "    return min(s), max(s)\n",
    "\n",
    "# Test cases\n",
    "print(set_min_max({1, 2, 3, 4, 5}))  # (1, 5)\n"
   ]
  },
  {
   "cell_type": "code",
   "execution_count": 31,
   "metadata": {},
   "outputs": [
    {
     "name": "stdout",
     "output_type": "stream",
     "text": [
      "True\n",
      "False\n"
     ]
    }
   ],
   "source": [
    "def are_disjoint(set1, set2):\n",
    "    return set1.isdisjoint(set2)\n",
    "\n",
    "# Test cases\n",
    "print(are_disjoint({1, 2, 3}, {4, 5, 6}))  # True\n",
    "print(are_disjoint({1, 2, 3}, {3, 4, 5}))  # False\n"
   ]
  },
  {
   "cell_type": "code",
   "execution_count": 32,
   "metadata": {},
   "outputs": [
    {
     "name": "stdout",
     "output_type": "stream",
     "text": [
      "{1}\n"
     ]
    }
   ],
   "source": [
    "def set_difference(set1, set2):\n",
    "    return set1 - set2\n",
    "\n",
    "# Test cases\n",
    "print(set_difference({1, 2, 3}, {2, 3, 4}))  # {1}\n"
   ]
  },
  {
   "cell_type": "code",
   "execution_count": 33,
   "metadata": {},
   "outputs": [
    {
     "name": "stdout",
     "output_type": "stream",
     "text": [
      "{'date', 'cherry', 'apple', 'banana'}\n"
     ]
    }
   ],
   "source": [
    "words = {\"apple\", \"banana\", \"cherry\", \"apple\", \"date\", \"banana\"}\n",
    "unique_words = set(words)\n",
    "print(unique_words)\n"
   ]
  }
 ],
 "metadata": {
  "kernelspec": {
   "display_name": "DSenv",
   "language": "python",
   "name": "python3"
  },
  "language_info": {
   "codemirror_mode": {
    "name": "ipython",
    "version": 3
   },
   "file_extension": ".py",
   "mimetype": "text/x-python",
   "name": "python",
   "nbconvert_exporter": "python",
   "pygments_lexer": "ipython3",
   "version": "3.12.4"
  }
 },
 "nbformat": 4,
 "nbformat_minor": 2
}
