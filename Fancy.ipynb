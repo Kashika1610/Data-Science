{
 "cells": [
  {
   "cell_type": "code",
   "execution_count": 3,
   "metadata": {},
   "outputs": [
    {
     "name": "stdout",
     "output_type": "stream",
     "text": [
      "2D Array 'a_2d':\n",
      "[[56 86 31 59]\n",
      " [12 11 97 45]\n",
      " [12 43 32 77]]\n",
      "\n",
      "Rows Array 'rows_array': [0 1 2]\n",
      "Cols Array 'cols_array': [1 2 3]\n",
      "\n",
      "Extracted Elements using Arrays:\n",
      "[86 97 77]\n"
     ]
    }
   ],
   "source": [
    "import numpy as np\n",
    "\n",
    "# Create a 2D array 'a' with shape (3, 4) containing random integers\n",
    "a_2d = np.random.randint(1, 100, size=(3, 4))\n",
    "print(\"2D Array 'a_2d':\")\n",
    "print(a_2d)\n",
    "\n",
    "# Create arrays 'rows' and 'cols' containing indices\n",
    "rows_array = np.array([0, 1, 2])\n",
    "cols_array = np.array([1, 2, 3])\n",
    "print(\"\\nRows Array 'rows_array':\", rows_array)\n",
    "print(\"Cols Array 'cols_array':\", cols_array)\n",
    "\n",
    "# Use fancy indexing to extract elements from 'a' using 'rows' and 'cols'\n",
    "extracted_elements_array = a_2d[rows_array, cols_array]\n",
    "print(\"\\nExtracted Elements using Arrays:\")\n",
    "print(extracted_elements_array)\n",
    "\n"
   ]
  },
  {
   "cell_type": "code",
   "execution_count": 4,
   "metadata": {},
   "outputs": [
    {
     "name": "stdout",
     "output_type": "stream",
     "text": [
      "\n",
      "1D Array 'a_1d': [ 1  2  3  4  5  6  7  8  9 10]\n",
      "Boolean Mask 'mask': [False False False False False  True  True  True  True  True]\n",
      "\n",
      "Extracted Elements using Boolean Mask:\n",
      "[ 6  7  8  9 10]\n"
     ]
    }
   ],
   "source": [
    "# Create a 1D array 'a' containing integers from 1 to 10\n",
    "a_1d = np.arange(1, 11)\n",
    "print(\"\\n1D Array 'a_1d':\", a_1d)\n",
    "\n",
    "# Create a boolean mask 'mask' to select elements greater than 5\n",
    "mask = a_1d > 5\n",
    "print(\"Boolean Mask 'mask':\", mask)\n",
    "\n",
    "# Use fancy indexing to extract elements from 'a' using 'mask'\n",
    "extracted_elements_boolean = a_1d[mask]\n",
    "print(\"\\nExtracted Elements using Boolean Mask:\")\n",
    "print(extracted_elements_boolean)\n"
   ]
  },
  {
   "cell_type": "code",
   "execution_count": 5,
   "metadata": {},
   "outputs": [
    {
     "name": "stdout",
     "output_type": "stream",
     "text": [
      "\n",
      "2D Array 'a_2d_list':\n",
      "[[20 38 29 76]\n",
      " [58 39  7 59]\n",
      " [67 50 59 70]]\n",
      "\n",
      "Rows List 'rows_list': [0, 1, 2]\n",
      "Cols List 'cols_list': [0, 2, 3]\n",
      "\n",
      "Extracted Elements using Lists:\n",
      "[20  7 70]\n"
     ]
    }
   ],
   "source": [
    "# Create a 2D array 'a' with shape (3, 4) containing random integers\n",
    "a_2d_list = np.random.randint(1, 100, size=(3, 4))\n",
    "print(\"\\n2D Array 'a_2d_list':\")\n",
    "print(a_2d_list)\n",
    "\n",
    "# Create two lists 'rows' and 'cols' containing indices\n",
    "rows_list = [0, 1, 2]\n",
    "cols_list = [0, 2, 3]\n",
    "print(\"\\nRows List 'rows_list':\", rows_list)\n",
    "print(\"Cols List 'cols_list':\", cols_list)\n",
    "\n",
    "# Use fancy indexing to extract elements from 'a' using 'rows' and 'cols'\n",
    "extracted_elements_list = a_2d_list[rows_list, cols_list]\n",
    "print(\"\\nExtracted Elements using Lists:\")\n",
    "print(extracted_elements_list)\n"
   ]
  },
  {
   "cell_type": "code",
   "execution_count": 6,
   "metadata": {},
   "outputs": [
    {
     "name": "stdout",
     "output_type": "stream",
     "text": [
      "\n",
      "3D Array 'a_3d':\n",
      "[[[ 3 35  4 83]\n",
      "  [48 81 42 22]\n",
      "  [55 80 99 75]]\n",
      "\n",
      " [[88  5 62 25]\n",
      "  [13  7 55 71]\n",
      "  [28 26 42 76]]]\n",
      "\n",
      "Rows Array 'rows_3d': [0 1]\n",
      "Cols Array 'cols_3d': [1 2]\n",
      "Depths Array 'depths_3d': [0 3]\n",
      "\n",
      "Extracted Elements using Advanced Fancy Indexing:\n",
      "[[48 22]\n",
      " [28 76]]\n"
     ]
    }
   ],
   "source": [
    "# Create a 3D array 'a' with shape (2, 3, 4) containing random integers\n",
    "a_3d = np.random.randint(1, 100, size=(2, 3, 4))\n",
    "print(\"\\n3D Array 'a_3d':\")\n",
    "print(a_3d)\n",
    "\n",
    "# Use fancy indexing to extract elements from 'a' using arrays of indices\n",
    "rows_3d = np.array([0, 1])\n",
    "cols_3d = np.array([1, 2])\n",
    "depths_3d = np.array([0, 3])\n",
    "print(\"\\nRows Array 'rows_3d':\", rows_3d)\n",
    "print(\"Cols Array 'cols_3d':\", cols_3d)\n",
    "print(\"Depths Array 'depths_3d':\", depths_3d)\n",
    "\n",
    "extracted_elements_3d = a_3d[rows_3d[:, None], cols_3d[:, None], depths_3d]\n",
    "print(\"\\nExtracted Elements using Advanced Fancy Indexing:\")\n",
    "print(extracted_elements_3d)\n"
   ]
  },
  {
   "cell_type": "code",
   "execution_count": 2,
   "metadata": {},
   "outputs": [
    {
     "name": "stdout",
     "output_type": "stream",
     "text": [
      "[94 91  1]\n"
     ]
    }
   ],
   "source": [
    "import numpy as np\n",
    "\n",
    "# Create a 2D array 'a' with shape (3, 4) containing random integers\n",
    "a_2d = np.random.randint(1, 100, size=(3, 4))\n",
    "\n",
    "# Create arrays 'rows' and 'cols' containing indices\n",
    "rows_array = np.array([0, 1, 2])\n",
    "cols_array = np.array([1, 2, 3])\n",
    "\n",
    "# Use fancy indexing to extract elements from 'a' using 'rows' and 'cols'\n",
    "extracted_elements_array = a_2d[rows_array, cols_array]\n",
    "print(extracted_elements_array)\n"
   ]
  },
  {
   "cell_type": "code",
   "execution_count": 6,
   "metadata": {},
   "outputs": [
    {
     "name": "stdout",
     "output_type": "stream",
     "text": [
      "[ 6  7  8  9 10]\n"
     ]
    }
   ],
   "source": [
    "# Create a 1D array 'a' containing integers from 1 to 10\n",
    "a_1d = np.arange(1, 11)\n",
    "\n",
    "# Create a boolean mask 'mask' to select elements greater than 5\n",
    "mask = a_1d > 5\n",
    "\n",
    "# Use fancy indexing to extract elements from 'a' using 'mask'\n",
    "extracted_elements_boolean = a_1d[mask]\n",
    "print(extracted_elements_boolean)"
   ]
  },
  {
   "cell_type": "code",
   "execution_count": 8,
   "metadata": {},
   "outputs": [
    {
     "name": "stdout",
     "output_type": "stream",
     "text": [
      "[70 23 93]\n"
     ]
    }
   ],
   "source": [
    "# Create a 2D array 'a' with shape (3, 4) containing random integers\n",
    "a_2d_list = np.random.randint(1, 100, size=(3, 4))\n",
    "\n",
    "# Create two lists 'rows' and 'cols' containing indices\n",
    "rows_list = [0, 1, 2]\n",
    "cols_list = [0, 2, 3]\n",
    "\n",
    "# Use fancy indexing to extract elements from 'a' using 'rows' and 'cols'\n",
    "extracted_elements_list = a_2d_list[rows_list, cols_list]\n",
    "print(extracted_elements_list)"
   ]
  },
  {
   "cell_type": "code",
   "execution_count": 7,
   "metadata": {},
   "outputs": [
    {
     "name": "stdout",
     "output_type": "stream",
     "text": [
      "[[13 26]\n",
      " [67 16]]\n"
     ]
    }
   ],
   "source": [
    "# Create a 3D array 'a' with shape (2, 3, 4) containing random integers\n",
    "a_3d = np.random.randint(1, 100, size=(2, 3, 4))\n",
    "\n",
    "# Use fancy indexing to extract elements from 'a' using arrays of indices\n",
    "rows_3d = np.array([0, 1])\n",
    "cols_3d = np.array([1, 2])\n",
    "depths_3d = np.array([0, 3])\n",
    "\n",
    "extracted_elements_3d = a_3d[rows_3d[:, None], cols_3d[:, None], depths_3d]\n",
    "print(extracted_elements_3d)"
   ]
  },
  {
   "cell_type": "code",
   "execution_count": null,
   "metadata": {},
   "outputs": [],
   "source": []
  }
 ],
 "metadata": {
  "kernelspec": {
   "display_name": "DSenv",
   "language": "python",
   "name": "python3"
  },
  "language_info": {
   "codemirror_mode": {
    "name": "ipython",
    "version": 3
   },
   "file_extension": ".py",
   "mimetype": "text/x-python",
   "name": "python",
   "nbconvert_exporter": "python",
   "pygments_lexer": "ipython3",
   "version": "3.12.4"
  }
 },
 "nbformat": 4,
 "nbformat_minor": 2
}
