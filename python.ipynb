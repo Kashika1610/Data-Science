{
 "cells": [
  {
   "cell_type": "code",
   "execution_count": 10,
   "metadata": {},
   "outputs": [
    {
     "name": "stdout",
     "output_type": "stream",
     "text": [
      "The sum of 2 and 4 is 6.0\n"
     ]
    }
   ],
   "source": [
    "# Addition of two numbers\n",
    "num1 = input('Enter first number: ')\n",
    "num2 = input('Enter second number: ')\n",
    "\n",
    "sum = float(num1) + float(num2)\n",
    "\n",
    "print('The sum of {0} and {1} is {2}'.format(num1, num2, sum))"
   ]
  },
  {
   "cell_type": "code",
   "execution_count": 11,
   "metadata": {},
   "outputs": [
    {
     "name": "stdout",
     "output_type": "stream",
     "text": [
      "The square root of (1+2j) is 1.272+0.786j\n"
     ]
    }
   ],
   "source": [
    "#Square root \n",
    "import cmath\n",
    "\n",
    "num = 1+2j\n",
    "\n",
    "num_sqrt = cmath.sqrt(num)\n",
    "print('The square root of {0} is {1:0.3f}+{2:0.3f}j'.format(num ,num_sqrt.real,num_sqrt.imag))\n"
   ]
  },
  {
   "cell_type": "code",
   "execution_count": 12,
   "metadata": {},
   "outputs": [
    {
     "name": "stdout",
     "output_type": "stream",
     "text": [
      "The solution are (-3+0j) and (-2+0j)\n"
     ]
    }
   ],
   "source": [
    "# Solve the quadratic equation ax**2 + bx + c = 0\n",
    "\n",
    "import cmath\n",
    "\n",
    "a = 1\n",
    "b = 5\n",
    "c = 6\n",
    "\n",
    "d = (b**2) - (4*a*c)\n",
    "\n",
    "sol1 = (-b-cmath.sqrt(d))/(2*a)\n",
    "sol2 = (-b+cmath.sqrt(d))/(2*a)\n",
    "\n",
    "print('The solution are {0} and {1}'.format(sol1,sol2))\n"
   ]
  },
  {
   "cell_type": "code",
   "execution_count": 13,
   "metadata": {},
   "outputs": [
    {
     "name": "stdout",
     "output_type": "stream",
     "text": [
      "The value of x after swapping: 10\n",
      "The value of y after swapping: 5\n"
     ]
    }
   ],
   "source": [
    "# Python program to swap two variables\n",
    "\n",
    "x = 5\n",
    "y = 10\n",
    "\n",
    "temp = x\n",
    "x = y\n",
    "y = temp\n",
    "\n",
    "print('The value of x after swapping: {}'.format(x))\n",
    "print('The value of y after swapping: {}'.format(y))\n",
    "\n"
   ]
  },
  {
   "cell_type": "code",
   "execution_count": 14,
   "metadata": {},
   "outputs": [
    {
     "name": "stdout",
     "output_type": "stream",
     "text": [
      "2000 is a leap year\n"
     ]
    }
   ],
   "source": [
    "# Python program to check if year is a leap year or not\n",
    "\n",
    "year = 2000\n",
    "\n",
    "if (year % 400 == 0) and (year % 100 == 0):\n",
    "    print(\"{0} is a leap year\".format(year))\n",
    "\n",
    "elif (year % 4 ==0) and (year % 100 != 0):\n",
    "    print(\"{0} is a leap year\".format(year))\n",
    "\n",
    "else:\n",
    "    print(\"{0} is not a leap year\".format(year))"
   ]
  },
  {
   "cell_type": "code",
   "execution_count": 15,
   "metadata": {},
   "outputs": [
    {
     "name": "stdout",
     "output_type": "stream",
     "text": [
      "153\n",
      "370\n",
      "371\n",
      "407\n",
      "1634\n"
     ]
    }
   ],
   "source": [
    "# Program to check Armstrong numbers in a certain interval\n",
    "\n",
    "lower = 100\n",
    "upper = 2000\n",
    "\n",
    "for num in range(lower, upper + 1):\n",
    "\n",
    "   order = len(str(num))\n",
    "    \n",
    "   sum = 0\n",
    "\n",
    "   temp = num\n",
    "   while temp > 0:\n",
    "       digit = temp % 10\n",
    "       sum += digit ** order\n",
    "       temp //= 10\n",
    "\n",
    "   if num == sum:\n",
    "       print(num)\n"
   ]
  },
  {
   "cell_type": "code",
   "execution_count": 16,
   "metadata": {},
   "outputs": [
    {
     "name": "stdout",
     "output_type": "stream",
     "text": [
      "Fibonacci sequence:\n",
      "0\n",
      "1\n"
     ]
    }
   ],
   "source": [
    "# Program to display the Fibonacci sequence up to n-th term\n",
    "\n",
    "nterms = int(input(\"How many terms? \"))\n",
    "\n",
    "# first two terms\n",
    "n1, n2 = 0, 1\n",
    "count = 0\n",
    "\n",
    "# check if the number of terms is valid\n",
    "if nterms <= 0:\n",
    "   print(\"Please enter a positive integer\")\n",
    "# if there is only one term, return n1\n",
    "elif nterms == 1:\n",
    "   print(\"Fibonacci sequence upto\",nterms,\":\")\n",
    "   print(n1)\n",
    "# generate fibonacci sequence\n",
    "else:\n",
    "   print(\"Fibonacci sequence:\")\n",
    "   while count < nterms:\n",
    "       print(n1)\n",
    "       nth = n1 + n2\n",
    "       # update values\n",
    "       n1 = n2\n",
    "       n2 = nth\n",
    "       count += 1"
   ]
  },
  {
   "cell_type": "code",
   "execution_count": 2,
   "metadata": {},
   "outputs": [],
   "source": [
    "class Solution:\n",
    "    def romanToInt(self, s: str) -> int:\n",
    "        m = {\n",
    "            'I': 1,\n",
    "            'V': 5,\n",
    "            'X': 10,\n",
    "            'L': 50,\n",
    "            'C': 100,\n",
    "            'D': 500,\n",
    "            'M': 1000\n",
    "        }\n",
    "        \n",
    "        ans = 0\n",
    "        \n",
    "        for i in range(len(s)):\n",
    "            if i < len(s) - 1 and m[s[i]] < m[s[i+1]]:\n",
    "                ans -= m[s[i]]\n",
    "            else:\n",
    "                ans += m[s[i]]\n",
    "        \n",
    "        return ans"
   ]
  },
  {
   "cell_type": "code",
   "execution_count": 17,
   "metadata": {},
   "outputs": [
    {
     "name": "stdout",
     "output_type": "stream",
     "text": [
      "3\n"
     ]
    }
   ],
   "source": [
    "freq = ['a', 1, 'a', 4, 3, 2, 'a'].count('a')\n",
    "print(freq)"
   ]
  },
  {
   "cell_type": "code",
   "execution_count": 18,
   "metadata": {},
   "outputs": [
    {
     "name": "stdout",
     "output_type": "stream",
     "text": [
      "Vehicle\n"
     ]
    }
   ],
   "source": [
    "class Vehicle:\n",
    "    def name(self, name):\n",
    "        return name\n",
    "\n",
    "v = Vehicle()\n",
    "print(type(v).__name__)"
   ]
  },
  {
   "cell_type": "code",
   "execution_count": 19,
   "metadata": {},
   "outputs": [
    {
     "name": "stdout",
     "output_type": "stream",
     "text": [
      "{1: 'python', 2: 'c', 3: 'c++'}\n"
     ]
    }
   ],
   "source": [
    "index = [1, 2, 3]\n",
    "languages = ['python', 'c', 'c++']\n",
    "\n",
    "dictionary = {k: v for k, v in zip(index, languages)}\n",
    "print(dictionary)"
   ]
  },
  {
   "cell_type": "code",
   "execution_count": 20,
   "metadata": {},
   "outputs": [
    {
     "name": "stdout",
     "output_type": "stream",
     "text": [
      "AAPL 145.23 2.12 (1.48%)\n",
      "MSFT 225.56 -3.78 (-1.65%)\n",
      "GOOG 2543.12 23.45 (0.93%)\n",
      "AMZN 114.23 -1.98 (-1.71%)\n",
      "FB 182.45 3.21 (1.79%)\n"
     ]
    }
   ],
   "source": [
    "# Using a list of tuples:\n",
    "\n",
    "stocks = [\n",
    "    (\"AAPL\", 145.23, 2.12, 1.48),\n",
    "    (\"MSFT\", 225.56, -3.78, -1.65),\n",
    "    (\"GOOG\", 2543.12, 23.45, 0.93),\n",
    "    (\"AMZN\", 114.23, -1.98, -1.71),\n",
    "    (\"FB\", 182.45, 3.21, 1.79)\n",
    "]\n",
    "\n",
    "for stock in stocks:\n",
    "    print(f\"{stock[0]} {stock[1]} {stock[2]} ({stock[3]}%)\")\n"
   ]
  },
  {
   "cell_type": "code",
   "execution_count": 21,
   "metadata": {},
   "outputs": [
    {
     "name": "stdout",
     "output_type": "stream",
     "text": [
      "AAPL 145.23 2.12 (1.48%)\n",
      "MSFT 225.56 -3.78 (-1.65%)\n",
      "GOOG 2543.12 23.45 (0.93%)\n",
      "AMZN 114.23 -1.98 (-1.71%)\n",
      "FB 182.45 3.21 (1.79%)\n"
     ]
    }
   ],
   "source": [
    "#1. Using a dictionary:\n",
    "\n",
    "stocks = {\n",
    "    \"AAPL\": {\"price\": 145.23, \"change\": 2.12, \"percent\": 1.48},\n",
    "    \"MSFT\": {\"price\": 225.56, \"change\": -3.78, \"percent\": -1.65},\n",
    "    \"GOOG\": {\"price\": 2543.12, \"change\": 23.45, \"percent\": 0.93},\n",
    "    \"AMZN\": {\"price\": 114.23, \"change\": -1.98, \"percent\": -1.71},\n",
    "    \"FB\": {\"price\": 182.45, \"change\": 3.21, \"percent\": 1.79}\n",
    "}\n",
    "\n",
    "for stock, data in stocks.items():\n",
    "    print(f\"{stock} {data['price']} {data['change']} ({data['percent']}%)\")"
   ]
  },
  {
   "cell_type": "code",
   "execution_count": 22,
   "metadata": {},
   "outputs": [
    {
     "name": "stdout",
     "output_type": "stream",
     "text": [
      "Symbol   Price  Change  Percent\n",
      "  AAPL  145.23    2.12     1.48\n",
      "  MSFT  225.56   -3.78    -1.65\n",
      "  GOOG 2543.12   23.45     0.93\n",
      "  AMZN  114.23   -1.98    -1.71\n",
      "    FB  182.45    3.21     1.79\n"
     ]
    }
   ],
   "source": [
    "# Using a Pandas DataFrame:\n",
    "\n",
    "import pandas as pd\n",
    "\n",
    "stocks = pd.DataFrame({\n",
    "    \"Symbol\": [\"AAPL\", \"MSFT\", \"GOOG\", \"AMZN\", \"FB\"],\n",
    "    \"Price\": [145.23, 225.56, 2543.12, 114.23, 182.45],\n",
    "    \"Change\": [2.12, -3.78, 23.45, -1.98, 3.21],\n",
    "    \"Percent\": [1.48, -1.65, 0.93, -1.71, 1.79]\n",
    "})\n",
    "\n",
    "print(stocks.to_string(index=False))"
   ]
  },
  {
   "cell_type": "code",
   "execution_count": null,
   "metadata": {},
   "outputs": [],
   "source": []
  }
 ],
 "metadata": {
  "kernelspec": {
   "display_name": "DSenv",
   "language": "python",
   "name": "python3"
  },
  "language_info": {
   "codemirror_mode": {
    "name": "ipython",
    "version": 3
   },
   "file_extension": ".py",
   "mimetype": "text/x-python",
   "name": "python",
   "nbconvert_exporter": "python",
   "pygments_lexer": "ipython3",
   "version": "3.12.4"
  }
 },
 "nbformat": 4,
 "nbformat_minor": 2
}
